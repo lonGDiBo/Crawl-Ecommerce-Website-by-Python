{
 "cells": [
  {
   "cell_type": "code",
   "execution_count": 3,
   "metadata": {},
   "outputs": [],
   "source": [
    "import requests\n",
    "from bs4  import BeautifulSoup\n",
    "import pandas as pd\n",
    "import time"
   ]
  },
  {
   "cell_type": "code",
   "execution_count": 2,
   "metadata": {},
   "outputs": [],
   "source": [
    "hearders = {\n",
    "    'User-Agent':'Mozilla/5.0 (Windows NT 10.0; Win64; x64) AppleWebKit/537.36 (KHTML, like Gecko) Chrome/119.0.0.0 Safari/537.36',\n",
    "    'Accept':'application/json, text/plain, */*',\n",
    "    'Accept-Language': 'en-US,en;q=0.9,vi;q=0.8',\n",
    "    'Referer': 'https://tiki.vn/nha-bep/c1951',\n",
    "    'x-guest-token': 'BQh69X4ZebcLO7AjCnDqVIYilpGEvPsa',\n",
    "    'Connection': 'keep-alive',\n",
    "    'TE': 'Trailers',\n",
    "}\n",
    "\n",
    "params = {\n",
    "    'limit': '40',\n",
    "    'include': 'advertisement',\n",
    "    'aggregations': '2',\n",
    "    'version': 'home-persionalized',\n",
    "    'trackity_id': 'fb840cb0-3718-da1a-64c3-2f7ee87435ba',\n",
    "    'category': '1951',\n",
    "    'page': '1',\n",
    "    'urlKey': 'nha-bep',\n",
    "}"
   ]
  },
  {
   "cell_type": "code",
   "execution_count": 12,
   "metadata": {},
   "outputs": [
    {
     "name": "stdout",
     "output_type": "stream",
     "text": [
      "success page  1\n",
      "success page  2\n",
      "success page  3\n",
      "success page  4\n",
      "success page  5\n"
     ]
    }
   ],
   "source": [
    "products_list_id=[]\n",
    "\n",
    "for i in range (1,6):\n",
    "    params['page'] = i\n",
    "    response = requests.get('https://tiki.vn/api/personalish/v1/blocks/listings', headers=hearders, params=params)\n",
    "    if response.status_code == 200:\n",
    "        print('success page ',i)\n",
    "        data = response.json()\n",
    "        for product in data['data']:\n",
    "            products_list_id.append({'id': product.get('id')})\n",
    "    else:\n",
    "        print('Error code: ', response.status_code)\n",
    "    time.sleep(1)\n",
    "    \n",
    "df = pd.DataFrame(products_list_id)\n",
    "df.to_csv('products_id_all.csv', index=False)\n"
   ]
  },
  {
   "cell_type": "code",
   "execution_count": null,
   "metadata": {},
   "outputs": [],
   "source": []
  }
 ],
 "metadata": {
  "kernelspec": {
   "display_name": "venv",
   "language": "python",
   "name": "python3"
  },
  "language_info": {
   "codemirror_mode": {
    "name": "ipython",
    "version": 3
   },
   "file_extension": ".py",
   "mimetype": "text/x-python",
   "name": "python",
   "nbconvert_exporter": "python",
   "pygments_lexer": "ipython3",
   "version": "3.12.0"
  }
 },
 "nbformat": 4,
 "nbformat_minor": 2
}
